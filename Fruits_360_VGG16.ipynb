{
  "cells": [
    {
      "cell_type": "markdown",
      "metadata": {
        "id": "5m83NRwewjUD"
      },
      "source": [
        "# Fruits360 - VGG16"
      ]
    },
    {
      "cell_type": "code",
      "execution_count": 1,
      "metadata": {
        "colab": {
          "base_uri": "https://localhost:8080/"
        },
        "id": "Dba_NevywhXb",
        "outputId": "2c444c96-3297-4dcc-dc3b-c6fea22f2071"
      },
      "outputs": [
        {
          "output_type": "stream",
          "name": "stdout",
          "text": [
            "Mounted at /content/drive/\n",
            "Your Google Drive is mounted at  /content/drive/My Drive/\n",
            "You Pytorch Colab notebooks are available at  /content/drive/My Drive/Colab Notebooks/pytorch\n",
            "NOTE: /content/drive/My Drive/Colab Notebooks/pytorch is appended to sys.path!\n"
          ]
        }
      ],
      "source": [
        "# set this flag to True when you run this Notebook on Google Collaboratory\n",
        "USE_COLAB = True\n",
        "\n",
        "import os\n",
        "\n",
        "#@see: https://colab.research.google.com/drive/1srw_HFWQ2SMgmWIawucXfusGzrj1_U0q\n",
        "if USE_COLAB:\n",
        "    # Load the Drive helper and mount\n",
        "    from google.colab import drive\n",
        "\n",
        "    # We mount our Google Drive to this foloder - following line will prompt for authorization.\n",
        "    gdrive_mount_point = '/content/drive/'\n",
        "    drive.mount(gdrive_mount_point)\n",
        "    grive_path = os.path.join(gdrive_mount_point, \"My Drive/\")\n",
        "    print('Your Google Drive is mounted at ', grive_path)\n",
        "    COLAB_NOTEBOOKS_PATH = os.path.join(grive_path, \"Colab Notebooks/\")\n",
        "    PYTORCH_COLAB_NOTEBOOKS_PATH = os.path.join(COLAB_NOTEBOOKS_PATH, 'pytorch')\n",
        "\n",
        "    if os.path.exists(PYTORCH_COLAB_NOTEBOOKS_PATH):\n",
        "        print('You Pytorch Colab notebooks are available at ', PYTORCH_COLAB_NOTEBOOKS_PATH)\n",
        "\n",
        "        # display list of files\n",
        "        #!ls '/content/drive/My Drive/Colab Notebooks/'\n",
        "\n",
        "        # append our Google Drive folder to module search\n",
        "        # **NOTE:** comment this line out if you are NOT running this notebook on Google Colab\n",
        "        import sys\n",
        "        #sys.path.append(\"/content/drive/My Drive/Colab Notebooks/\")\n",
        "        sys.path.append(PYTORCH_COLAB_NOTEBOOKS_PATH)\n",
        "        print('NOTE: {} is appended to sys.path!'.format(PYTORCH_COLAB_NOTEBOOKS_PATH))\n",
        "        # and test it\n",
        "        # import pytorch_toolkit as pytk\n",
        "        MODEL_SAVE_DIR = os.path.join(PYTORCH_COLAB_NOTEBOOKS_PATH, 'model_states')\n",
        "        IMAGES_ZIP_DIR = \"/content/drive/My Drive/Colab Notebooks/data/kaggle/fruits360\"\n",
        "    else:\n",
        "        raise IOError(\"Unable to mount Google Drive!\")\n",
        "else:\n",
        "    MODEL_SAVE_DIR = os.path.join('.','model_states')\n",
        "    IMAGES_ZIP_DIR = \"./images/pytorch/fruits360\"\n",
        "\n",
        "if not os.path.exists(MODEL_SAVE_DIR):\n",
        "    os.mkdir(MODEL_SAVE_DIR)"
      ]
    },
    {
      "cell_type": "markdown",
      "metadata": {
        "id": "pw6FVXJyok0t"
      },
      "source": [
        "# Downloading the Dataset from Kaggle\n",
        "You can download datasets directly from Kaggle into a Colab environment by running the following steps:\n",
        "* Login to your Kaggle account and _create a new API Token_ from your profile page (click the `Create API Token` button and download the `kaggle.json` file locally i.e. to your disk.\n",
        "* Upload the `kaggle.json` that you downloaded to Colab  and move the file to `~/.kaggle/kaggle.json`\n",
        "* Install Python packages `kaggle` and `kaggle-cli` that needed to access Kaggle programatically. These can be installed using `pip`\n",
        "* Now you can access datasets on Kaggle\n",
        "    * Run `!kaggle datasets list` shell command to list all available datasets (may no be such a useful command!)\n",
        "    * Run `!datasets list -s <<dataset_name>>` to search for a dataset (e.g. for the Malaria dataset, I used `kaggle list -s malaria`)\n",
        "    * Copy dataset locally using `!kaggle datasets download -d <<full_path_of_dataset>> -p <<target_folder_path>>`\n",
        "\n",
        "Run the following cells to download the [Fruits360 dataset](https://www.kaggle.com/moltean/fruits) from Kaggle to your Colab environment."
      ]
    },
    {
      "cell_type": "code",
      "execution_count": 2,
      "metadata": {
        "id": "wI1us5JmokKa"
      },
      "outputs": [],
      "source": [
        "# assuming you downloaded kaggle.json file to your desktop, run this cell to upload that file to Colab\n",
        "# this sometimes causes problems, especially if I am behind a firewalls and uploads are jammed!\n",
        "# This command will display a \"upload file\" prompt - select the kaggle.json file from your disk & upload\n",
        "\n",
        "# Uncomment following 2 lines to upload local kaggle.json file to Colab - the file will be uploaded to\n",
        "# the folder on your Google drive from where you will this this workbook.\n",
        "# from google.colab import files\n",
        "# files.upload()"
      ]
    },
    {
      "cell_type": "code",
      "execution_count": 3,
      "metadata": {
        "colab": {
          "base_uri": "https://localhost:8080/"
        },
        "id": "Lf8K_HFx1DJT",
        "outputId": "4cc54338-f99d-4fd8-a2e6-d972c3d9ba02"
      },
      "outputs": [
        {
          "output_type": "stream",
          "name": "stdout",
          "text": [
            "-rw------- 1 root root 66 Apr  5 21:46 '/content/drive/My Drive/Colab Notebooks/kaggle.json'\n"
          ]
        }
      ],
      "source": [
        "# so I uploaded my kaggle.json to my Google drive, which I can easily copy into Colab workspace :)\n",
        "!ls -al \"/content/drive/My Drive/Colab Notebooks/kaggle.json\""
      ]
    },
    {
      "cell_type": "code",
      "execution_count": 4,
      "metadata": {
        "colab": {
          "base_uri": "https://localhost:8080/"
        },
        "id": "ssjI4Mgiojn7",
        "outputId": "bc922d9b-3190-49bd-bed4-bce4765230f2"
      },
      "outputs": [
        {
          "output_type": "stream",
          "name": "stdout",
          "text": [
            "kaggle.json\n"
          ]
        }
      ],
      "source": [
        "# Run this cell to copy the uploaded kaggle.json file to ~/.kaggle/kaggle.json\n",
        "# Kaggle expects the token file to be located here!!\n",
        "!mkdir -p ~/.kaggle\n",
        "!cp \"/content/drive/My Drive/Colab Notebooks/kaggle.json\" ~/.kaggle/\n",
        "# give \"me\" full access to kaggle.json (i.e. read/write & execute)\n",
        "!chmod 600 ~/.kaggle/kaggle.json\n",
        "# confirm that ~/.kaggle folder has kaggle.json file\n",
        "!ls ~/.kaggle"
      ]
    },
    {
      "cell_type": "code",
      "execution_count": 5,
      "metadata": {
        "colab": {
          "base_uri": "https://localhost:8080/"
        },
        "id": "QDTIybpjojG_",
        "outputId": "efb86d15-3a5b-48b2-9db2-733c1c580dbc"
      },
      "outputs": [
        {
          "output_type": "stream",
          "name": "stdout",
          "text": [
            "  Preparing metadata (setup.py) ... \u001b[?25l\u001b[?25hdone\n",
            "\u001b[2K     \u001b[90m━━━━━━━━━━━━━━━━━━━━━━━━━━━━━━━━━━━━━━━━\u001b[0m \u001b[32m74.4/74.4 kB\u001b[0m \u001b[31m2.3 MB/s\u001b[0m eta \u001b[36m0:00:00\u001b[0m\n",
            "\u001b[2K     \u001b[90m━━━━━━━━━━━━━━━━━━━━━━━━━━━━━━━━━━━━━━━━\u001b[0m \u001b[32m4.2/4.2 MB\u001b[0m \u001b[31m68.5 MB/s\u001b[0m eta \u001b[36m0:00:00\u001b[0m\n",
            "\u001b[?25h  Preparing metadata (setup.py) ... \u001b[?25l\u001b[?25hdone\n",
            "\u001b[2K     \u001b[90m━━━━━━━━━━━━━━━━━━━━━━━━━━━━━━━━━━━━━━━━\u001b[0m \u001b[32m90.4/90.4 kB\u001b[0m \u001b[31m14.0 MB/s\u001b[0m eta \u001b[36m0:00:00\u001b[0m\n",
            "\u001b[2K     \u001b[90m━━━━━━━━━━━━━━━━━━━━━━━━━━━━━━━━━━━━━━━━\u001b[0m \u001b[32m107.5/107.5 kB\u001b[0m \u001b[31m14.6 MB/s\u001b[0m eta \u001b[36m0:00:00\u001b[0m\n",
            "\u001b[?25h  Preparing metadata (setup.py) ... \u001b[?25l\u001b[?25hdone\n",
            "\u001b[2K     \u001b[90m━━━━━━━━━━━━━━━━━━━━━━━━━━━━━━━━━━━━━━━━\u001b[0m \u001b[32m49.7/49.7 kB\u001b[0m \u001b[31m6.8 MB/s\u001b[0m eta \u001b[36m0:00:00\u001b[0m\n",
            "\u001b[2K     \u001b[90m━━━━━━━━━━━━━━━━━━━━━━━━━━━━━━━━━━━━━━━━\u001b[0m \u001b[32m147.2/147.2 kB\u001b[0m \u001b[31m20.9 MB/s\u001b[0m eta \u001b[36m0:00:00\u001b[0m\n",
            "\u001b[?25h  Building wheel for kaggle-cli (setup.py) ... \u001b[?25l\u001b[?25hdone\n",
            "  \u001b[1;31merror\u001b[0m: \u001b[1msubprocess-exited-with-error\u001b[0m\n",
            "  \n",
            "  \u001b[31m×\u001b[0m \u001b[32mpython setup.py bdist_wheel\u001b[0m did not run successfully.\n",
            "  \u001b[31m│\u001b[0m exit code: \u001b[1;36m1\u001b[0m\n",
            "  \u001b[31m╰─>\u001b[0m See above for output.\n",
            "  \n",
            "  \u001b[1;35mnote\u001b[0m: This error originates from a subprocess, and is likely not a problem with pip.\n",
            "  Building wheel for lxml (setup.py) ... \u001b[?25lerror\n",
            "\u001b[31m  ERROR: Failed building wheel for lxml\u001b[0m\u001b[31m\n",
            "\u001b[0m\u001b[?25h  Building wheel for PrettyTable (setup.py) ... \u001b[?25l\u001b[?25hdone\n",
            "\u001b[31mERROR: Could not build wheels for lxml, which is required to install pyproject.toml-based projects\u001b[0m\u001b[31m\n",
            "\u001b[0m"
          ]
        }
      ],
      "source": [
        "# install Python packages require to access Kaggle datasets\n",
        "!pip install -q kaggle\n",
        "!pip install -q kaggle-cli"
      ]
    },
    {
      "cell_type": "code",
      "execution_count": 6,
      "metadata": {
        "id": "H62yjpyXp8SY",
        "colab": {
          "base_uri": "https://localhost:8080/"
        },
        "outputId": "a3a3cd56-d288-4e2d-bad6-4e03c38c37e6"
      },
      "outputs": [
        {
          "output_type": "stream",
          "name": "stdout",
          "text": [
            "Warning: Looks like you're using an outdated API Version, please consider updating (server 1.6.7 / client 1.5.16)\n",
            "ref                                                         title                                           size  lastUpdated          downloadCount  voteCount  usabilityRating  \n",
            "----------------------------------------------------------  ---------------------------------------------  -----  -------------------  -------------  ---------  ---------------  \n",
            "sudarshan24byte/online-food-dataset                         Online Food Dataset                              3KB  2024-03-02 18:50:30          19505        391  0.9411765        \n",
            "sahirmaharajj/electric-vehicle-population-size-2024         Electric Vehicle Population by Country (2024)  275KB  2024-03-30 19:16:06           1222         35  1.0              \n",
            "aryanverma99/grocery-prices-data-explore-shopping-trends    Grocery Prices Data: Explore Shopping Trends    28KB  2024-04-02 07:04:33            817         23  1.0              \n",
            "mexwell/drug-consumption-classification                     💊 Drug Consumption Classification               56KB  2024-03-28 15:02:22           1637         35  1.0              \n",
            "m1relly/heart-attack-prediction                             Heart Attack Prediction                        519KB  2024-04-01 18:17:52            899         24  1.0              \n",
            "bhavikjikadara/student-study-performance                    Student Study Performance                        9KB  2024-03-07 06:14:09           9833        135  1.0              \n",
            "jatinthakur706/most-watched-netflix-original-shows-tv-time  Most watched Netflix original shows (TV Time)    2KB  2024-03-27 09:01:21           1888         30  1.0              \n",
            "syedanwarafridi/vehicle-sales-data                          Vehicle Sales Data                              19MB  2024-02-21 20:16:17          25339        398  1.0              \n",
            "divu2001/coffee-shop-sales-analysis                         Coffee Shop Sales Analysis                       2MB  2024-03-30 10:57:57           1663         33  1.0              \n",
            "sukhmandeepsinghbrar/heart-attack-dataset                   Heart Attack Dataset                            16KB  2024-03-30 05:14:35           1528         26  1.0              \n",
            "abhinavshaw09/food-prices-in-india                          Food Prices In India                             2MB  2024-03-16 17:51:57           1295         27  1.0              \n",
            "lovishbansal123/sales-of-a-supermarket                      Sales of a Supermarket                          36KB  2024-03-26 12:38:06           2622         43  1.0              \n",
            "nbroad/gemma-rewrite-nbroad                                 gemma-rewrite-nbroad                             8MB  2024-03-03 04:52:39           1301         90  1.0              \n",
            "joekd6/imdb-top250-movies                                   IMDb Top250 Movies                              40KB  2024-03-31 13:53:06            806         22  0.8235294        \n",
            "propriyam/instagram-data                                    Instagram Data                                   3MB  2024-03-14 06:41:29           1007         22  1.0              \n",
            "samira1992/diabetes-intermediate-dataset                    🩸 Diabetes - Intermediate 🗃️ Dataset             9KB  2024-03-31 20:14:34            768         32  1.0              \n",
            "anandshaw2001/airlines-reviews-and-rating                   Airlines Reviews and Rating                      1MB  2024-03-24 17:13:19           1219         30  1.0              \n",
            "saurabhbadole/latest-data-science-job-salaries-2024         Latest Data Science Job Salaries 2020 - 2024    69KB  2024-03-26 19:00:33           1532         34  1.0              \n",
            "bhavikjikadara/mental-health-dataset                        Mental Health Dataset                            2MB  2024-03-18 06:05:16           3000         52  1.0              \n",
            "susanta21/real-student-mbb-degree-college-data              Student General Degree College Data            426KB  2024-03-30 11:26:10           1014         34  1.0              \n"
          ]
        }
      ],
      "source": [
        "# Vola! You now have access to Kaggle datasets\n",
        "\n",
        "# to list **all** the datasets available on Kaggle, run the following shell command\n",
        "!kaggle datasets list"
      ]
    },
    {
      "cell_type": "code",
      "execution_count": 7,
      "metadata": {
        "colab": {
          "base_uri": "https://localhost:8080/"
        },
        "id": "M7hjflvJp79R",
        "outputId": "b3ef707f-223d-4147-bcee-4127c0297a3d"
      },
      "outputs": [
        {
          "output_type": "stream",
          "name": "stdout",
          "text": [
            "Warning: Looks like you're using an outdated API Version, please consider updating (server 1.6.7 / client 1.5.16)\n",
            "ref                                                              title                                             size  lastUpdated          downloadCount  voteCount  usabilityRating  \n",
            "---------------------------------------------------------------  -----------------------------------------------  -----  -------------------  -------------  ---------  ---------------  \n",
            "moltean/fruits                                                   Fruits-360                                         1GB  2021-09-12 19:19:48         138811       2862  0.875            \n",
            "aelchimminut/fruits262                                           Fruits-262                                         6GB  2021-12-15 19:16:59           4993        131  0.875            \n",
            "marquis03/fruits-100                                             Fruits 100                                       627MB  2023-10-27 12:14:44           1992         36  1.0              \n",
            "shreyapmaher/fruits-dataset-images                               Fruits Dataset (Images)                          205MB  2023-04-25 02:10:47           6235         63  0.875            \n",
            "utkarshsaxenadn/fruits-classification                            Fruits Classification 🍇                           85MB  2023-04-09 02:46:58           2783         38  0.875            \n",
            "nelgiriyewithana/apple-quality                                   Apple Quality                                    170KB  2024-01-11 14:31:07          30340        593  1.0              \n",
            "kritikseth/fruit-and-vegetable-image-recognition                 Fruits and Vegetables Image Recognition Dataset    2GB  2022-02-12 06:15:55          24002        301  0.875            \n",
            "alihasnainch/fruits-dataset-for-classification                   Fruits Dataset for Classification                 14MB  2024-01-31 15:48:14           2242         45  0.875            \n",
            "everydaycodings/produce-prices-dataset                           Fruits and Vegetables Prices Dataset             232KB  2023-12-11 13:40:33           3440         49  1.0              \n",
            "mjamilmoughal/fruits-with-colors-dataset                         Fruits with colors dataset                        816B  2018-01-13 10:22:33          28232         78  0.5625           \n",
            "muratkokludataset/date-fruit-datasets                            Date Fruit Datasets                              408KB  2022-04-03 09:25:39          22398       2054  0.9375           \n",
            "ramkrijal/agriculture-vegetables-fruits-time-series-prices       Time Series Price Vegetables and Fruits            1MB  2023-03-05 16:54:21           2520         40  1.0              \n",
            "kapturovalexander/fruits-by-yolo-fruits-detection                Fruits by YOLO - Fruits Detection                115MB  2024-04-03 16:16:11            444         28  0.875            \n",
            "nexuswho/tomatofruits                                            Tomato fruits dataset                            156MB  2023-11-17 16:45:07            801         26  0.875            \n",
            "sriramr/fruits-fresh-and-rotten-for-classification               Fruits fresh and rotten for classification         4GB  2018-08-24 15:05:40          18340        317  0.375            \n",
            "anshikakashyap12/fruits-and-vegetables-prices-in-usa             Fruits And Vegetables Prices In USA                3KB  2023-10-23 17:19:11           1401         32  1.0              \n",
            "raghavrpotdar/fresh-and-stale-images-of-fruits-and-vegetables    Fresh and Stale Images of Fruits and Vegetables    1GB  2021-05-17 16:20:32           4702         54  0.75             \n",
            "mauriciofigueiredo/amazon-fruits-small                           Amazon fruits (small)                              1MB  2020-11-05 21:26:51            891         26  0.3125           \n",
            "chrisfilo/fruit-recognition                                      Fruit Recognition                                  8GB  2020-02-04 18:52:00          12643        323  0.875            \n",
            "osmankagankurnaz/dataset-of-ai-generated-fruits-and-real-fruits  Dataset of AI Generated Fruits and Real Fruits    76MB  2023-12-27 20:47:59            235         24  0.75             \n"
          ]
        }
      ],
      "source": [
        "# We can look for a specific dataset (e.g. the fruits dataset) like this\n",
        "# Search Command is: kaggle datasets list -s complete_or_part_name_of_dataset\n",
        "\n",
        "!kaggle datasets list -s fruits  # I don't know the exact name, so I used a part-name - fruits"
      ]
    },
    {
      "cell_type": "markdown",
      "metadata": {
        "id": "bbRRUAGtrSjr"
      },
      "source": [
        "The first one is the one we are looking for. Let's download the zip file to our `/tmp` folder - **this completes the download of data from Kaggle**"
      ]
    },
    {
      "cell_type": "code",
      "execution_count": 8,
      "metadata": {
        "colab": {
          "base_uri": "https://localhost:8080/"
        },
        "id": "dO7mHqMtp7mA",
        "outputId": "2fcfd65f-e797-4a2a-97cc-cc270e7917b5"
      },
      "outputs": [
        {
          "output_type": "stream",
          "name": "stdout",
          "text": [
            "Downloading fruits.zip to /tmp\n",
            "100% 1.28G/1.28G [01:03<00:00, 23.7MB/s]\n",
            "100% 1.28G/1.28G [01:03<00:00, 21.7MB/s]\n",
            "dap_multiplexer.f868049e30c3.root.log.INFO.20240406-033230.137\n",
            "dap_multiplexer.INFO\n",
            "debugger_1ruj150oew\n",
            "directoryprefetcher_binary.f868049e30c3.root.log.INFO.20240406-033403.819\n",
            "directoryprefetcher_binary.INFO\n",
            "drive.ERROR\n",
            "drive.f868049e30c3.root.log.ERROR.20240406-033350.597\n",
            "drive.f868049e30c3.root.log.ERROR.20240406-033359.720\n",
            "drive.f868049e30c3.root.log.INFO.20240406-033349.590\n",
            "drive.f868049e30c3.root.log.INFO.20240406-033349.597\n",
            "drive.f868049e30c3.root.log.INFO.20240406-033359.590\n",
            "drive.f868049e30c3.root.log.INFO.20240406-033359.720\n",
            "drive.f868049e30c3.root.log.WARNING.20240406-033350.597\n",
            "drive.f868049e30c3.root.log.WARNING.20240406-033359.720\n",
            "drivefs_ipc.0\n",
            "drivefs_ipc.0_shell\n",
            "drive.INFO\n",
            "drive.WARNING\n",
            "fruits.zip\n",
            "initgoogle_syslog_dir.0\n",
            "language_service.f868049e30c3.root.log.INFO.20240406-033340.507\n",
            "language_service.f868049e30c3.root.log.INFO.20240406-033421.987\n",
            "language_service.f868049e30c3.root.log.INFO.20240406-033423.1078\n",
            "language_service.INFO\n",
            "pyright-1092-6dvy5wTpE6yr\n",
            "pyright-1092-jzCzokZytwcM\n",
            "pyright-524-6BpSoWPPhPGh\n",
            "python-languageserver-cancellation\n"
          ]
        }
      ],
      "source": [
        "# download command: kaggle datasets download -d <<file_name>> -p <<dest>>\n",
        "\n",
        "!kaggle datasets download -d moltean/fruits -p /tmp\n",
        "!ls /tmp"
      ]
    },
    {
      "cell_type": "markdown",
      "metadata": {
        "id": "RChCNxBivFPn"
      },
      "source": [
        "Now that we have _downloaded_ data from Kaggle to our local Colab environment, let's unzip the contents."
      ]
    },
    {
      "cell_type": "code",
      "execution_count": 9,
      "metadata": {
        "colab": {
          "base_uri": "https://localhost:8080/"
        },
        "id": "sruLi6erbNTQ",
        "outputId": "52670c37-4ad4-4116-c36e-b6e4fff6f204"
      },
      "outputs": [
        {
          "output_type": "stream",
          "name": "stdout",
          "text": [
            "/tmp/fruits.zip\n"
          ]
        }
      ],
      "source": [
        "!ls /tmp/*.zip"
      ]
    },
    {
      "cell_type": "code",
      "execution_count": 10,
      "metadata": {
        "colab": {
          "base_uri": "https://localhost:8080/"
        },
        "id": "_01TsmLHsGEK",
        "outputId": "6b9ac0dc-8ce9-431a-b588-c015f62518b8"
      },
      "outputs": [
        {
          "output_type": "stream",
          "name": "stdout",
          "text": [
            "Source zip: /tmp/fruits.zip\n",
            "Extracting all images...done!\n"
          ]
        }
      ],
      "source": [
        "# and let us unzip cell-images-for-detecting-malaria.zip to /tmp folder\n",
        "import os, shutil\n",
        "import zipfile\n",
        "\n",
        "zip_file_path = '/tmp/fruits.zip'\n",
        "assert os.path.exists(zip_file_path)\n",
        "\n",
        "# extract all files to /tmp\n",
        "print('Source zip: %s' % zip_file_path)\n",
        "print('Extracting all images...', end='', flush=True)\n",
        "zip_ref = zipfile.ZipFile(zip_file_path, 'r')\n",
        "\n",
        "zip_ref.extractall('/tmp')\n",
        "zip_ref.close()\n",
        "print('done!', flush=True)"
      ]
    },
    {
      "cell_type": "code",
      "execution_count": 11,
      "metadata": {
        "id": "mTkQoQuJDIKS"
      },
      "outputs": [],
      "source": [
        "# now unhide the left panel in Colab, click the Files 'tab' & browse to /tmp folder\n",
        "# you should see the following folders under /tmp\n",
        "# /tmp\n",
        "#   + fruits-360\n",
        "#       + Training   (training dataset images - several sub-folders under this folder)\n",
        "#       + Test       (test dataset images - several sub-folders under this folder)\n",
        "#       + ....       (and many more that I am not interested in)\n",
        "\n",
        "train_folder_root = '/tmp/fruits-360_dataset/fruits-360/Training'\n",
        "test_folder_root = '/tmp/fruits-360_dataset/fruits-360/Test'"
      ]
    },
    {
      "cell_type": "code",
      "execution_count": 12,
      "metadata": {
        "colab": {
          "base_uri": "https://localhost:8080/"
        },
        "id": "5zjsJlZXWDrK",
        "outputId": "815b81c2-4707-4583-b0f6-e3462849ad35"
      },
      "outputs": [
        {
          "output_type": "stream",
          "name": "stdout",
          "text": [
            "Detected 131 classes\n"
          ]
        }
      ],
      "source": [
        "# a quick dict of category-id to category-name (category name is parent folder under which image is present)\n",
        "fruit_category_names = sorted(os.listdir(train_folder_root))\n",
        "fruit_categories = {}\n",
        "for i, name in enumerate(fruit_category_names):\n",
        "    fruit_categories[i] = name\n",
        "\n",
        "NUM_CLASSES = len(fruit_categories.keys())\n",
        "print('Detected %d classes' % NUM_CLASSES)"
      ]
    },
    {
      "cell_type": "code",
      "source": [
        "import os, time\n",
        "import numpy as np\n",
        "import random\n",
        "random.seed(42)\n",
        "import pandas as pd\n",
        "import seaborn as sns\n",
        "import matplotlib.pyplot as plt\n",
        "from sklearn.metrics import accuracy_score, confusion_matrix, f1_score, classification_report\n",
        "\n",
        "import torch\n",
        "torch.manual_seed(42)\n",
        "from torch import nn\n",
        "from torch.optim import SGD, Adam\n",
        "from torch.utils.data import DataLoader, RandomSampler\n",
        "from torch.utils.data.dataset import Dataset\n",
        "from torchvision import transforms, datasets, models\n",
        "from torchvision.datasets import ImageFolder\n",
        "from torch.optim.lr_scheduler import ReduceLROnPlateau\n",
        "\n",
        "print('PyTorch %s %s' % (torch.__version__, torch.cuda.get_device_properties(0) if torch.cuda.is_available() else 'CPU'))"
      ],
      "metadata": {
        "colab": {
          "base_uri": "https://localhost:8080/"
        },
        "id": "wfjLvFf5INVj",
        "outputId": "6e43e766-5f9f-4484-c170-b4d6393d28e6"
      },
      "execution_count": 13,
      "outputs": [
        {
          "output_type": "stream",
          "name": "stdout",
          "text": [
            "PyTorch 2.2.1+cu121 _CudaDeviceProperties(name='NVIDIA A100-SXM4-40GB', major=8, minor=0, total_memory=40513MB, multi_processor_count=108)\n"
          ]
        }
      ]
    },
    {
      "cell_type": "code",
      "execution_count": 14,
      "metadata": {
        "id": "MCYdbsDl7Ex5"
      },
      "outputs": [],
      "source": [
        "train_transforms = transforms.Compose([\n",
        "    transforms.RandomResizedCrop(224),\n",
        "    transforms.RandomHorizontalFlip(),\n",
        "    transforms.ToTensor(),\n",
        "    transforms.Normalize([0.485, 0.456, 0.406], [0.229, 0.224, 0.225])\n",
        "])\n",
        "\n",
        "val_transforms = transforms.Compose([\n",
        "    transforms.Resize(256),\n",
        "    transforms.CenterCrop(224),\n",
        "    transforms.ToTensor(),\n",
        "    transforms.Normalize([0.485, 0.456, 0.406], [0.229, 0.224, 0.225])\n",
        "])"
      ]
    },
    {
      "cell_type": "code",
      "execution_count": 15,
      "metadata": {
        "colab": {
          "base_uri": "https://localhost:8080/"
        },
        "id": "VtNMj4na7Eh8",
        "outputId": "904b1b24-bbe4-4f71-e854-128861c4e3ad"
      },
      "outputs": [
        {
          "output_type": "stream",
          "name": "stdout",
          "text": [
            "No of training records: 67692\n",
            "No of test records: 22688\n"
          ]
        }
      ],
      "source": [
        "train_dataset = ImageFolder(train_folder_root, train_transforms)\n",
        "val_dataset = ImageFolder(test_folder_root, val_transforms)\n",
        "\n",
        "print(\"No of training records: %d\" % len(train_dataset))\n",
        "print(\"No of test records: %d\" % len(val_dataset))"
      ]
    },
    {
      "cell_type": "code",
      "execution_count": 16,
      "metadata": {
        "id": "cdZQYlnl7ssr"
      },
      "outputs": [],
      "source": [
        "# Create data loaders\n",
        "train_loader = torch.utils.data.DataLoader(train_dataset, batch_size=64, shuffle=True)\n",
        "val_loader = torch.utils.data.DataLoader(val_dataset, batch_size=64, shuffle=False)"
      ]
    },
    {
      "cell_type": "markdown",
      "metadata": {
        "id": "EvPmx3UY8kKY"
      },
      "source": [
        "## Using Pre-Trained VGG16 Model"
      ]
    },
    {
      "cell_type": "code",
      "execution_count": 17,
      "metadata": {
        "colab": {
          "base_uri": "https://localhost:8080/"
        },
        "id": "ixE2cEWnEY_j",
        "outputId": "9e880624-2952-4049-c620-b2aa647c536f"
      },
      "outputs": [
        {
          "output_type": "stream",
          "name": "stderr",
          "text": [
            "/usr/local/lib/python3.10/dist-packages/torchvision/models/_utils.py:208: UserWarning: The parameter 'pretrained' is deprecated since 0.13 and may be removed in the future, please use 'weights' instead.\n",
            "  warnings.warn(\n",
            "/usr/local/lib/python3.10/dist-packages/torchvision/models/_utils.py:223: UserWarning: Arguments other than a weight enum or `None` for 'weights' are deprecated since 0.13 and may be removed in the future. The current behavior is equivalent to passing `weights=VGG16_Weights.IMAGENET1K_V1`. You can also use `weights=VGG16_Weights.DEFAULT` to get the most up-to-date weights.\n",
            "  warnings.warn(msg)\n",
            "Downloading: \"https://download.pytorch.org/models/vgg16-397923af.pth\" to /root/.cache/torch/hub/checkpoints/vgg16-397923af.pth\n",
            "100%|██████████| 528M/528M [00:02<00:00, 188MB/s]\n"
          ]
        },
        {
          "output_type": "stream",
          "name": "stdout",
          "text": [
            "VGG(\n",
            "  (features): Sequential(\n",
            "    (0): Conv2d(3, 64, kernel_size=(3, 3), stride=(1, 1), padding=(1, 1))\n",
            "    (1): ReLU(inplace=True)\n",
            "    (2): Conv2d(64, 64, kernel_size=(3, 3), stride=(1, 1), padding=(1, 1))\n",
            "    (3): ReLU(inplace=True)\n",
            "    (4): MaxPool2d(kernel_size=2, stride=2, padding=0, dilation=1, ceil_mode=False)\n",
            "    (5): Conv2d(64, 128, kernel_size=(3, 3), stride=(1, 1), padding=(1, 1))\n",
            "    (6): ReLU(inplace=True)\n",
            "    (7): Conv2d(128, 128, kernel_size=(3, 3), stride=(1, 1), padding=(1, 1))\n",
            "    (8): ReLU(inplace=True)\n",
            "    (9): MaxPool2d(kernel_size=2, stride=2, padding=0, dilation=1, ceil_mode=False)\n",
            "    (10): Conv2d(128, 256, kernel_size=(3, 3), stride=(1, 1), padding=(1, 1))\n",
            "    (11): ReLU(inplace=True)\n",
            "    (12): Conv2d(256, 256, kernel_size=(3, 3), stride=(1, 1), padding=(1, 1))\n",
            "    (13): ReLU(inplace=True)\n",
            "    (14): Conv2d(256, 256, kernel_size=(3, 3), stride=(1, 1), padding=(1, 1))\n",
            "    (15): ReLU(inplace=True)\n",
            "    (16): MaxPool2d(kernel_size=2, stride=2, padding=0, dilation=1, ceil_mode=False)\n",
            "    (17): Conv2d(256, 512, kernel_size=(3, 3), stride=(1, 1), padding=(1, 1))\n",
            "    (18): ReLU(inplace=True)\n",
            "    (19): Conv2d(512, 512, kernel_size=(3, 3), stride=(1, 1), padding=(1, 1))\n",
            "    (20): ReLU(inplace=True)\n",
            "    (21): Conv2d(512, 512, kernel_size=(3, 3), stride=(1, 1), padding=(1, 1))\n",
            "    (22): ReLU(inplace=True)\n",
            "    (23): MaxPool2d(kernel_size=2, stride=2, padding=0, dilation=1, ceil_mode=False)\n",
            "    (24): Conv2d(512, 512, kernel_size=(3, 3), stride=(1, 1), padding=(1, 1))\n",
            "    (25): ReLU(inplace=True)\n",
            "    (26): Conv2d(512, 512, kernel_size=(3, 3), stride=(1, 1), padding=(1, 1))\n",
            "    (27): ReLU(inplace=True)\n",
            "    (28): Conv2d(512, 512, kernel_size=(3, 3), stride=(1, 1), padding=(1, 1))\n",
            "    (29): ReLU(inplace=True)\n",
            "    (30): MaxPool2d(kernel_size=2, stride=2, padding=0, dilation=1, ceil_mode=False)\n",
            "  )\n",
            "  (avgpool): AdaptiveAvgPool2d(output_size=(7, 7))\n",
            "  (classifier): Sequential(\n",
            "    (0): Linear(in_features=25088, out_features=4096, bias=True)\n",
            "    (1): ReLU(inplace=True)\n",
            "    (2): Dropout(p=0.5, inplace=False)\n",
            "    (3): Linear(in_features=4096, out_features=4096, bias=True)\n",
            "    (4): ReLU(inplace=True)\n",
            "    (5): Dropout(p=0.5, inplace=False)\n",
            "    (6): Linear(in_features=4096, out_features=1000, bias=True)\n",
            "  )\n",
            ")\n"
          ]
        }
      ],
      "source": [
        "from torchvision import models\n",
        "net = models.vgg16(pretrained=True)\n",
        "for param in net.parameters():\n",
        "    param.requires_grad = False\n",
        "print(net)"
      ]
    },
    {
      "cell_type": "code",
      "source": [
        "net.classifier[6] = nn.Sequential(nn.Linear(4096, 256),\n",
        "                                        nn.ReLU(),\n",
        "                                        nn.Dropout(p=0.25),\n",
        "                                        nn.Linear(256, NUM_CLASSES))"
      ],
      "metadata": {
        "id": "f8zboeJjMb9w"
      },
      "execution_count": 18,
      "outputs": []
    },
    {
      "cell_type": "code",
      "execution_count": 19,
      "metadata": {
        "id": "YyWfWFuo69Va"
      },
      "outputs": [],
      "source": [
        "def train_model(model, train_loader, val_loader, lr, epochs, momentum, weight_decay, patience, n_epochs_stop):\n",
        "    criterion = nn.CrossEntropyLoss()\n",
        "    optimizer = Adam(model.parameters(), lr=lr)\n",
        "    scheduler = ReduceLROnPlateau(optimizer, patience=patience, factor=0.1, verbose=True)\n",
        "\n",
        "    loaders = {'train': train_loader, 'val': val_loader}\n",
        "    losses = {'train': [], 'val': []}\n",
        "    accuracies = {'train': [], 'val': []}\n",
        "\n",
        "    y_testing = []\n",
        "    preds = []\n",
        "\n",
        "    min_val_loss = np.Inf\n",
        "    epochs_no_improv = 0\n",
        "\n",
        "    if torch.cuda.is_available():\n",
        "        if torch.cuda.device_count() > 1:\n",
        "            model = nn.DataParallel(model)\n",
        "        print(f'Using {torch.cuda.device_count()} GPUs')\n",
        "        model.cuda()\n",
        "    else:\n",
        "        print('Using CPU')\n",
        "\n",
        "    start = time.time()\n",
        "    for epoch in range(epochs):\n",
        "        for mode in ['train', 'val']:\n",
        "            if mode == 'train':\n",
        "                model.train()\n",
        "            else:\n",
        "                model.eval()\n",
        "\n",
        "            epoch_loss = 0\n",
        "            epoch_acc = 0\n",
        "            samples = 0\n",
        "\n",
        "            for i, (inputs, targets) in enumerate(loaders[mode]):\n",
        "                if torch.cuda.is_available():\n",
        "                    inputs = inputs.cuda()\n",
        "                    targets = targets.cuda()\n",
        "\n",
        "                optimizer.zero_grad()\n",
        "                output = model(inputs)\n",
        "                loss = criterion(output, targets)\n",
        "\n",
        "                if mode == 'train':\n",
        "                    loss.backward()\n",
        "                    optimizer.step()\n",
        "                else:\n",
        "                    y_testing.extend(targets.data.tolist())\n",
        "                    preds.extend(output.max(1)[1].tolist())\n",
        "\n",
        "                if torch.cuda.is_available():\n",
        "                    acc = accuracy_score(targets.data.cuda().cpu().numpy(), output.max(1)[1].cuda().cpu().numpy())\n",
        "                else:\n",
        "                    acc = accuracy_score(targets.data, output.max(1)[1])\n",
        "\n",
        "                epoch_loss += loss.data.item()*inputs.shape[0]\n",
        "                epoch_acc += acc*inputs.shape[0]\n",
        "                samples += inputs.shape[0]\n",
        "\n",
        "                if i % (len(loaders[mode])//5) == 0:\n",
        "                    print(f'[{mode}] Epoch {epoch+1}/{epochs} Iteration {i+1}/{len(loaders[mode])} Loss: {epoch_loss/samples:0.2f} Accuracy: {epoch_acc/samples:0.2f}')\n",
        "\n",
        "            epoch_loss /= samples\n",
        "            epoch_acc /= samples\n",
        "            losses[mode].append(epoch_loss)\n",
        "            accuracies[mode].append(epoch_acc)\n",
        "\n",
        "            print(f'[{mode}] Epoch {epoch+1}/{epochs} Iteration {i+1}/{len(loaders[mode])} Loss: {epoch_loss:0.2f} Accuracy: {epoch_acc:0.2f}')\n",
        "\n",
        "            if mode == 'val':\n",
        "                # Check validation loss for early stopping\n",
        "                if epoch_loss < min_val_loss:\n",
        "                    torch.save(model.state_dict(), 'best_vgg16.pth')\n",
        "                    epochs_no_improv = 0\n",
        "                    min_val_loss = epoch_loss\n",
        "                else:\n",
        "                    epochs_no_improv += 1\n",
        "                    print(f'Epochs with no improvement {epochs_no_improv}')\n",
        "                    if epochs_no_improv == n_epochs_stop:\n",
        "                        print('Early stopping!')\n",
        "                        return model, (losses, accuracies), y_testing, preds\n",
        "                    model.load_state_dict(torch.load('best_vgg16.pth'))\n",
        "\n",
        "                scheduler.step(epoch_loss)\n",
        "\n",
        "    print(f'Training time: {time.time()-start} min.')\n",
        "    return model, (losses, accuracies), y_testing, preds"
      ]
    },
    {
      "cell_type": "code",
      "source": [
        "learning_rate = 0.001\n",
        "epochs = 3\n",
        "momentum = 0.9\n",
        "weight_decay = 0\n",
        "patience = 3\n",
        "n_epochs_stop = 5\n",
        "\n",
        "net_model, loss_acc, y_testing, preds = train_model(net, train_loader, val_loader,\n",
        "                                                    learning_rate, epochs, momentum, weight_decay, patience, n_epochs_stop)"
      ],
      "metadata": {
        "colab": {
          "base_uri": "https://localhost:8080/"
        },
        "id": "h7vTwdlwKFHL",
        "outputId": "bcd94620-4788-4045-bef4-1f3bdaef2b02"
      },
      "execution_count": 20,
      "outputs": [
        {
          "output_type": "stream",
          "name": "stdout",
          "text": [
            "Using 1 GPUs\n"
          ]
        },
        {
          "output_type": "stream",
          "name": "stderr",
          "text": [
            "/usr/local/lib/python3.10/dist-packages/torch/optim/lr_scheduler.py:28: UserWarning: The verbose parameter is deprecated. Please use get_last_lr() to access the learning rate.\n",
            "  warnings.warn(\"The verbose parameter is deprecated. Please use get_last_lr() \"\n"
          ]
        },
        {
          "output_type": "stream",
          "name": "stdout",
          "text": [
            "[train] Epoch 1/3 Iteration 1/1058 Loss: 4.89 Accuracy: 0.00\n",
            "[train] Epoch 1/3 Iteration 212/1058 Loss: 1.93 Accuracy: 0.52\n",
            "[train] Epoch 1/3 Iteration 423/1058 Loss: 1.40 Accuracy: 0.63\n",
            "[train] Epoch 1/3 Iteration 634/1058 Loss: 1.17 Accuracy: 0.68\n",
            "[train] Epoch 1/3 Iteration 845/1058 Loss: 1.04 Accuracy: 0.71\n",
            "[train] Epoch 1/3 Iteration 1056/1058 Loss: 0.96 Accuracy: 0.73\n",
            "[train] Epoch 1/3 Iteration 1058/1058 Loss: 0.96 Accuracy: 0.73\n",
            "[val] Epoch 1/3 Iteration 1/355 Loss: 0.53 Accuracy: 1.00\n",
            "[val] Epoch 1/3 Iteration 72/355 Loss: 0.32 Accuracy: 0.91\n",
            "[val] Epoch 1/3 Iteration 143/355 Loss: 0.26 Accuracy: 0.93\n",
            "[val] Epoch 1/3 Iteration 214/355 Loss: 0.22 Accuracy: 0.94\n",
            "[val] Epoch 1/3 Iteration 285/355 Loss: 0.24 Accuracy: 0.94\n",
            "[val] Epoch 1/3 Iteration 355/355 Loss: 0.22 Accuracy: 0.94\n",
            "[train] Epoch 2/3 Iteration 1/1058 Loss: 0.87 Accuracy: 0.69\n",
            "[train] Epoch 2/3 Iteration 212/1058 Loss: 0.59 Accuracy: 0.81\n",
            "[train] Epoch 2/3 Iteration 423/1058 Loss: 0.58 Accuracy: 0.82\n",
            "[train] Epoch 2/3 Iteration 634/1058 Loss: 0.57 Accuracy: 0.82\n",
            "[train] Epoch 2/3 Iteration 845/1058 Loss: 0.56 Accuracy: 0.82\n",
            "[train] Epoch 2/3 Iteration 1056/1058 Loss: 0.55 Accuracy: 0.82\n",
            "[train] Epoch 2/3 Iteration 1058/1058 Loss: 0.55 Accuracy: 0.82\n",
            "[val] Epoch 2/3 Iteration 1/355 Loss: 0.09 Accuracy: 1.00\n",
            "[val] Epoch 2/3 Iteration 72/355 Loss: 0.25 Accuracy: 0.91\n",
            "[val] Epoch 2/3 Iteration 143/355 Loss: 0.23 Accuracy: 0.94\n",
            "[val] Epoch 2/3 Iteration 214/355 Loss: 0.21 Accuracy: 0.94\n",
            "[val] Epoch 2/3 Iteration 285/355 Loss: 0.20 Accuracy: 0.94\n",
            "[val] Epoch 2/3 Iteration 355/355 Loss: 0.20 Accuracy: 0.94\n",
            "[train] Epoch 3/3 Iteration 1/1058 Loss: 0.48 Accuracy: 0.86\n",
            "[train] Epoch 3/3 Iteration 212/1058 Loss: 0.54 Accuracy: 0.83\n",
            "[train] Epoch 3/3 Iteration 423/1058 Loss: 0.52 Accuracy: 0.84\n",
            "[train] Epoch 3/3 Iteration 634/1058 Loss: 0.52 Accuracy: 0.84\n",
            "[train] Epoch 3/3 Iteration 845/1058 Loss: 0.51 Accuracy: 0.84\n",
            "[train] Epoch 3/3 Iteration 1056/1058 Loss: 0.51 Accuracy: 0.84\n",
            "[train] Epoch 3/3 Iteration 1058/1058 Loss: 0.51 Accuracy: 0.84\n",
            "[val] Epoch 3/3 Iteration 1/355 Loss: 0.23 Accuracy: 1.00\n",
            "[val] Epoch 3/3 Iteration 72/355 Loss: 0.31 Accuracy: 0.90\n",
            "[val] Epoch 3/3 Iteration 143/355 Loss: 0.26 Accuracy: 0.93\n",
            "[val] Epoch 3/3 Iteration 214/355 Loss: 0.23 Accuracy: 0.94\n",
            "[val] Epoch 3/3 Iteration 285/355 Loss: 0.22 Accuracy: 0.94\n",
            "[val] Epoch 3/3 Iteration 355/355 Loss: 0.20 Accuracy: 0.94\n",
            "Epochs with no improvement 1\n",
            "Training time: 678.7003316879272 min.\n"
          ]
        }
      ]
    },
    {
      "cell_type": "code",
      "source": [
        "def plot_losses_and_accuracies(losses, accuracies):\n",
        "    # Plot losses\n",
        "    plt.figure(figsize=(10, 5))\n",
        "    plt.plot(losses['train'], label='Training Loss', color='blue')\n",
        "    plt.plot(losses['val'], label='Validation Loss', color='orange')\n",
        "    plt.xlabel('Epoch')\n",
        "    plt.ylabel('Loss')\n",
        "    plt.title('Training and Validation Losses per Epoch')\n",
        "    plt.legend()\n",
        "    plt.grid(True)\n",
        "    plt.show()\n",
        "\n",
        "    # Plot accuracies\n",
        "    plt.figure(figsize=(10, 5))\n",
        "    plt.plot(accuracies['train'], label='Training Accuracy', color='blue')\n",
        "    plt.plot(accuracies['val'], label='Validation Accuracy', color='orange')\n",
        "    plt.xlabel('Epoch')\n",
        "    plt.ylabel('Accuracy')\n",
        "    plt.title('Training and Validation Accuracies per Epoch')\n",
        "    plt.legend()\n",
        "    plt.grid(True)\n",
        "    plt.show()"
      ],
      "metadata": {
        "id": "JObCoxyLMBG0"
      },
      "execution_count": 21,
      "outputs": []
    },
    {
      "cell_type": "code",
      "source": [
        "losses, accuracies = loss_acc\n",
        "plot_losses_and_accuracies(losses, accuracies)"
      ],
      "metadata": {
        "colab": {
          "base_uri": "https://localhost:8080/",
          "height": 957
        },
        "id": "smMN59dDMB3G",
        "outputId": "5c2bbca3-ceb0-44a3-a669-1c1836be83a9"
      },
      "execution_count": 22,
      "outputs": [
        {
          "output_type": "display_data",
          "data": {
            "text/plain": [
              "<Figure size 1000x500 with 1 Axes>"
            ],
            "image/png": "[encoded data removed]"
          },
          "metadata": {}
        },
        {
          "output_type": "display_data",
          "data": {
            "text/plain": [
              "<Figure size 1000x500 with 1 Axes>"
            ],
            "image/png": "[encoded data removed]"
          },
          "metadata": {}
        }
      ]
    }
  ],
  "metadata": {
    "colab": {
      "provenance": [],
      "machine_shape": "hm"
    },
    "interpreter": {
      "hash": "28574749e7b3f53d27f817730aba9540f1a35995646b3cd7171b338a8ec9c9d6"
    },
    "kernelspec": {
      "display_name": "Python 3",
      "name": "python3"
    },
    "language_info": {
      "codemirror_mode": {
        "name": "ipython",
        "version": 3
      },
      "file_extension": ".py",
      "mimetype": "text/x-python",
      "name": "python",
      "nbconvert_exporter": "python",
      "pygments_lexer": "ipython3",
      "version": "3.9.7"
    }
  },
  "nbformat": 4,
  "nbformat_minor": 0
}